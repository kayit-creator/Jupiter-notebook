{
    "cells": [
        {
            "metadata": {},
            "cell_type": "markdown",
            "source": "# My Jupyter Notebook on IBM Watson Studio"
        },
        {
            "metadata": {},
            "cell_type": "markdown",
            "source": "# kayit Elisha"
        },
        {
            "metadata": {},
            "cell_type": "markdown",
            "source": "### *I am interested in data in order to build large dataset model for data visualization.*"
        },
        {
            "metadata": {},
            "cell_type": "markdown",
            "source": "###   The following code output the sum of two numbers"
        },
        {
            "metadata": {},
            "cell_type": "code",
            "source": "A = 24\nB = 10\nC = A + B",
            "execution_count": 11,
            "outputs": []
        },
        {
            "metadata": {},
            "cell_type": "code",
            "source": "print(A,B)",
            "execution_count": 7,
            "outputs": [
                {
                    "output_type": "stream",
                    "text": "24 10\n",
                    "name": "stdout"
                }
            ]
        },
        {
            "metadata": {},
            "cell_type": "code",
            "source": "print (C)",
            "execution_count": 10,
            "outputs": [
                {
                    "output_type": "stream",
                    "text": "34\n",
                    "name": "stdout"
                }
            ]
        },
        {
            "metadata": {},
            "cell_type": "markdown",
            "source": "* Coffee \n* Tea \n* Water \n"
        },
        {
            "metadata": {},
            "cell_type": "markdown",
            "source": "1. Coffee\n2. Tea\n3. Water"
        },
        {
            "metadata": {},
            "cell_type": "markdown",
            "source": "http://github.com - automatic!\n\n[GitHub](http://github.com)"
        }
    ],
    "metadata": {
        "kernelspec": {
            "name": "python3",
            "display_name": "Python 3.6",
            "language": "python"
        },
        "language_info": {
            "name": "python",
            "version": "3.6.9",
            "mimetype": "text/x-python",
            "codemirror_mode": {
                "name": "ipython",
                "version": 3
            },
            "pygments_lexer": "ipython3",
            "nbconvert_exporter": "python",
            "file_extension": ".py"
        }
    },
    "nbformat": 4,
    "nbformat_minor": 1
}